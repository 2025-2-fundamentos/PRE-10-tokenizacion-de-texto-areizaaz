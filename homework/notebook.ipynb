{
 "cells": [
  {
   "cell_type": "code",
   "execution_count": null,
   "id": "2f5dd56f",
   "metadata": {},
   "outputs": [
    {
     "name": "stdout",
     "output_type": "stream",
     "text": [
      "../files/input\\file1.txt  It is essential to develop non-precious metal-based alternatives used \n",
      "../files/input\\file2.txt  Electric vehicles are gaining global popularity lately, and along with\n",
      "../files/input\\file3.txt  Global solar irradiation is an important variable that can be used to \n"
     ]
    }
   ],
   "source": [
    "import glob\n",
    "\n",
    "\n",
    "def load_data(input_directory):\n",
    "\n",
    "    sequence = []\n",
    "    files = glob.glob(f\"{input_directory}/*\")\n",
    "    for file in files:\n",
    "        with open(file, \"rt\", encoding=\"utf-8\") as f:\n",
    "            raw_text = f.read()\n",
    "            sequence.append((file, raw_text))\n",
    "    return sequence\n",
    "\n",
    "\n",
    "sequence = load_data(input_directory=\"../files/input\")\n",
    "for file, text in sequence:\n",
    "    print(f\"{file}  {text[:70]}\")"
   ]
  },
  {
   "cell_type": "code",
   "execution_count": null,
   "id": "192e2e37",
   "metadata": {},
   "outputs": [
    {
     "name": "stdout",
     "output_type": "stream",
     "text": [
      "../files/input\\file1.txt  it is essential to develop non-precious metal-based alternatives used \n",
      "../files/input\\file2.txt  electric vehicles are gaining global popularity lately, and along with\n",
      "../files/input\\file3.txt  global solar irradiation is an important variable that can be used to \n"
     ]
    }
   ],
   "source": [
    "import re\n",
    "\n",
    "\n",
    "def clean_text(sequence):\n",
    "    cleaned_sequence = []\n",
    "    for file, text in sequence:\n",
    "        cleaned_text = re.sub(r\"\\n\", \" \", text)\n",
    "        cleaned_text = re.sub(r\"\\s+\", \" \", cleaned_text)\n",
    "        cleaned_text = cleaned_text.strip()\n",
    "        cleaned_text = cleaned_text.lower()\n",
    "        cleaned_sequence.append((file, cleaned_text))\n",
    "    return cleaned_sequence\n",
    "\n",
    "\n",
    "sequence = load_data(input_directory=\"../files/input\")\n",
    "cleaned_sequence = clean_text(sequence)\n",
    "for file, text in cleaned_sequence:\n",
    "    print(f\"{file}  {text[:75]}\")"
   ]
  },
  {
   "cell_type": "code",
   "execution_count": null,
   "id": "a20dc11f",
   "metadata": {},
   "outputs": [
    {
     "name": "stderr",
     "output_type": "stream",
     "text": [
      "[nltk_data] Downloading package punkt_tab to\n",
      "[nltk_data]     C:\\Users\\Usuario\\AppData\\Roaming\\nltk_data...\n",
      "[nltk_data]   Unzipping tokenizers\\punkt_tab.zip.\n"
     ]
    },
    {
     "name": "stdout",
     "output_type": "stream",
     "text": [
      "../files/input\\file1.txt  it is essential to develop non-precious metal-based alternatives used \n",
      "../files/input\\file2.txt  electric vehicles are gaining global popularity lately , and along wit\n",
      "../files/input\\file3.txt  global solar irradiation is an important variable that can be used to \n"
     ]
    }
   ],
   "source": [
    "import nltk\n",
    "from nltk.tokenize import word_tokenize\n",
    "\n",
    "nltk.download(\"punkt_tab\")\n",
    "\n",
    "\n",
    "def tokenize(sequence):\n",
    "    tokenized_sequence = []\n",
    "    for file, text in sequence:\n",
    "        tokens = word_tokenize(text)\n",
    "        tokenized_sequence.append((file, tokens))\n",
    "    return tokenized_sequence\n",
    "\n",
    "\n",
    "sequence = load_data(input_directory=\"../files/input\")\n",
    "cleaned_sequence = clean_text(sequence)\n",
    "tokenized_sequence = tokenize(cleaned_sequence)\n",
    "for file, text in tokenized_sequence:\n",
    "    print(f\"{file}  {' '.join(text)[:70]}\")"
   ]
  },
  {
   "cell_type": "code",
   "execution_count": null,
   "id": "b4a496b0",
   "metadata": {},
   "outputs": [
    {
     "name": "stdout",
     "output_type": "stream",
     "text": [
      "../files/input\\file1.txt  it is essential to develop alternatives used in hydrogen evolution reaction\n",
      "../files/input\\file2.txt  electric vehicles are gaining global popularity lately and along with it ef\n",
      "../files/input\\file3.txt  global solar irradiation is an important variable that can be used to deter\n"
     ]
    }
   ],
   "source": [
    "# Remoción de datos ruidosos (Opcion A)\n",
    "def filter_tokens_a(sequence):\n",
    "    \"\"\"Esta solucion puede perder tokens que contienen caracteres no alfabeticos\"\"\"\n",
    "    filtered_sequence = []\n",
    "    for file, tokens in sequence:\n",
    "        filtered_tokens = [token for token in tokens if token.isalpha()]\n",
    "        filtered_sequence.append((file, filtered_tokens))\n",
    "    return filtered_sequence\n",
    "\n",
    "\n",
    "sequence = load_data(input_directory=\"../files/input\")\n",
    "cleaned_sequence = clean_text(sequence)\n",
    "tokenized_sequence = tokenize(cleaned_sequence)\n",
    "filtered_sequence = filter_tokens_a(tokenized_sequence)\n",
    "for file, text in filtered_sequence:\n",
    "    print(f\"{file}  {' '.join(text)[:75]}\")"
   ]
  },
  {
   "cell_type": "code",
   "execution_count": null,
   "id": "7b28f94f",
   "metadata": {},
   "outputs": [
    {
     "name": "stdout",
     "output_type": "stream",
     "text": [
      "it is essential to develop non-precious metal-based alternatives used\n",
      "in hydrogen evolution reaction ( her ) due to high cost and scarcity\n",
      "of pt-based catalysts . herein , through density functional theory (\n",
      "dft ) calculations , the her activity over 26 single-atom anchored\n",
      "phosphorus carbide ( pc3 ) monolayer ( tm @ pc3 ) has been\n",
      "systematically investigated . results indicate that δg * h of v , fe ,\n",
      "nb , mo , and pd @ pc3 are lower than that of pt ( 1 1 1 ) catalyst ,\n",
      "with 0.03 , −0.03 , −0.07 , −0.04 , and − 0.02 ev , respectively . by\n",
      "imposing the criterion window ( −0.2 ≤ δg * h ≤ 0.2 ev ) , the d band\n",
      "centre ( εd ) for catalysts with excellent her ability is in the range\n",
      "of − 0.68–0.41 ev . besides , the five promising her catalysts follow\n",
      "volmer-tafel mechanism . fe , nb , and mo @ pc3 show activation\n",
      "barriers of 0.75 , 0.74 , and 0.55 ev , lower than that of pt .\n",
      "machine learning ( ml ) was employed to explore the intrinsic\n",
      "relationship between catalytic performance and feature parameters . we\n",
      "demonstrated that the first ionization energy , bond length of tm − h\n",
      "and d band center are more correlated with hydrogen adsorption\n",
      "behaviour . our work not only predicts that fe , nb , and mo @ pc3 can\n",
      "be substitutes for pt metal in her , but also reveals that the\n",
      "intrinsic correlation between catalytic activity and feature\n",
      "parameters by combining dft and ml investigations .\n",
      "\n",
      "\n",
      "electric vehicles are gaining global popularity lately , and along\n",
      "with it , efficient battery thermal management systems ( btms ) are\n",
      "also gaining traction amongst the research community . phase change\n",
      "material ( pcm ) based btms can be an attractive solution due to its\n",
      "high energy density and isothermal energy exchange . however , pure\n",
      "pcm has some drawbacks like low thermal conductivity , volume\n",
      "expansion , and leakage during phase change . a shape stable composite\n",
      "pcm ( sscpcm ) resolves these drawbacks but is an expensive solution\n",
      "due to the high cost of conventional supporting materials . biochar (\n",
      "bc ) based sscpcm developed in this study can be a cheap and\n",
      "sustainable solution for btms . the characterization studies are\n",
      "carried out for combination of pure pcm ( myristyl alcohol ) and\n",
      "biochar at various loadings of 6 % , 12 % , 18 % , and 24 % by weight\n",
      ", using fourier transform infrared analysis ( ft-ir ) , x-ray\n",
      "diffraction ( xrd ) analysis , scanning electron microscopy ( sem ) ,\n",
      "particle size analysis ( psa ) , differential scanning calorimetry (\n",
      "dsc ) , and thermogravimetric analysis ( tga ) . the shape stability\n",
      "studies reveal that the pcm with minimum of 24 % biochar ( pcm-bc24 )\n",
      "is shape stable . the thermal conductivities and effusivities of pure\n",
      "and shape-stable composite pcms are also studied . enhancement in\n",
      "thermal conductivity of pcm-bc24 is studied with the addition of\n",
      "multi-walled carbon nanotubes ( mwcnt ) in 0.5 % and 1 %\n",
      "concentrations . ft-ir and xrd results reveal that the interaction of\n",
      "biochar and mwcnt with pure pcm is purely physical and chemically\n",
      "stable . the degree of supercooling is reduced by 19.26 % , 23.49 % ,\n",
      "and 25.17 % for pcm-bc24 with 1 % mwcnt compared to pure pcm at a\n",
      "heating rate of 5.0 , 7.5 , and 10 °c/min , respectively . thermal\n",
      "conductivity and effusivity of pcm-bc24 with 1 % mwcnt are 458.72 %\n",
      "and 146.25 % higher than the pure pcm , respectively . the tga results\n",
      "reveal that pcms thermal stability is not adversely affected by the\n",
      "addition of bc & mwcnt . furthermore , an anfis model is developed to\n",
      "predict the heat flow ( mw/mg ) values of pcm samples and found that\n",
      "the generalized bell-shaped input and linear output membership\n",
      "function is best suitable with a coefficient of determination ( r2 )\n",
      "of 0.971 .\n",
      "\n",
      "\n",
      "global solar irradiation is an important variable that can be used to\n",
      "determine the suitability of an area to install solar systems ;\n",
      "nevertheless , due to the limitations of requiring measurement\n",
      "stations around the entire world , it can be correlated with different\n",
      "meteorological parameters . to confront this issue , different\n",
      "locations in rias baixas ( autonomous community of galicia , spain )\n",
      "and combinations of parameters ( month and average temperature , among\n",
      "others ) were used to develop various machine learning models ( random\n",
      "forest -rf- , support vector machine -svm- and artificial neural\n",
      "network -ann- ) . these three approaches were used to model and\n",
      "predict ( one month ahead ) monthly global solar irradiation using the\n",
      "data from six measurement stations . afterwards , these models were\n",
      "applied to seven different measurement stations to check if the\n",
      "knowledge acquired could be extrapolated to other locations . in\n",
      "general , the ann models offered the best results for the development\n",
      "and testing phases of the model , as well as for the phase of\n",
      "knowledge extrapolation to other locations . in this sense , the\n",
      "selected anns obtained a mean absolute percentage error ( mape ) value\n",
      "between 3.9 and 13.8 % for the model development and an overall mape\n",
      "between 4.1 and 12.5 % for the other seven locations . anns can be a\n",
      "capable tool for modelling and predicting monthly global solar\n",
      "irradiation in areas where data are available and for extrapolating\n",
      "this knowledge to nearby areas .\n",
      "\n",
      "\n"
     ]
    }
   ],
   "source": [
    "import textwrap\n",
    "\n",
    "for file, text in tokenized_sequence:\n",
    "    print(textwrap.fill(' '.join(text)))\n",
    "    print()\n",
    "    print()"
   ]
  },
  {
   "cell_type": "code",
   "execution_count": null,
   "id": "8c4852c2",
   "metadata": {},
   "outputs": [
    {
     "name": "stdout",
     "output_type": "stream",
     "text": [
      "essential develop non precious metal based alternatives used hydrogen\n",
      "evolution reaction due high cost scarcity pt based catalysts herein\n",
      "density functional theory dft calculations activity single atom\n",
      "anchored phosphorus carbide pc monolayer tm pc systematically\n",
      "investigated results indicate g h v fe nb mo pd pc lower pt catalyst\n",
      "ev respectively imposing criterion window g h ev band centre catalysts\n",
      "excellent ability range ev besides five promising catalysts follow\n",
      "volmer tafel mechanism fe nb mo pc show activation barriers ev lower\n",
      "pt machine learning ml employed explore intrinsic relationship\n",
      "catalytic performance feature parameters demonstrated first ionization\n",
      "energy bond length tm h band center correlated hydrogen adsorption\n",
      "behaviour work predicts fe nb mo pc substitutes pt metal also reveals\n",
      "intrinsic correlation catalytic activity feature parameters combining\n",
      "dft ml investigations\n",
      "\n",
      "\n",
      "electric vehicles gaining global popularity lately along efficient\n",
      "battery thermal management systems btms also gaining traction amongst\n",
      "research community phase change material pcm based btms attractive\n",
      "solution due high energy density isothermal energy exchange however\n",
      "pure pcm drawbacks like low thermal conductivity volume expansion\n",
      "leakage phase change shape stable composite pcm sscpcm resolves\n",
      "drawbacks expensive solution due high cost conventional supporting\n",
      "materials biochar bc based sscpcm developed study cheap sustainable\n",
      "solution btms characterization studies carried combination pure pcm\n",
      "myristyl alcohol biochar various loadings weight using fourier\n",
      "transform infrared analysis ft ir x ray diffraction xrd analysis\n",
      "scanning electron microscopy sem particle size analysis psa\n",
      "differential scanning calorimetry dsc thermogravimetric analysis tga\n",
      "shape stability studies reveal pcm minimum biochar pcm bc shape stable\n",
      "thermal conductivities effusivities pure shape stable composite pcms\n",
      "also studied enhancement thermal conductivity pcm bc studied addition\n",
      "multi walled carbon nanotubes mwcnt concentrations ft ir xrd results\n",
      "reveal interaction biochar mwcnt pure pcm purely physical chemically\n",
      "stable degree supercooling reduced pcm bc mwcnt compared pure pcm\n",
      "heating rate c min respectively thermal conductivity effusivity pcm bc\n",
      "mwcnt higher pure pcm respectively tga results reveal pcms thermal\n",
      "stability adversely affected addition bc mwcnt furthermore anfis model\n",
      "developed predict heat flow mw mg values pcm samples found generalized\n",
      "bell shaped input linear output membership function best suitable\n",
      "coefficient determination r\n",
      "\n",
      "\n",
      "global solar irradiation important variable used determine suitability\n",
      "area install solar systems nevertheless due limitations requiring\n",
      "measurement stations around entire world correlated different\n",
      "meteorological parameters confront issue different locations rias\n",
      "baixas autonomous community galicia spain combinations parameters\n",
      "month average temperature among others used develop various machine\n",
      "learning models random forest rf support vector machine svm artificial\n",
      "neural network ann three approaches used model predict one month ahead\n",
      "monthly global solar irradiation using data six measurement stations\n",
      "afterwards models applied seven different measurement stations check\n",
      "knowledge acquired could extrapolated locations general ann models\n",
      "offered best results development testing phases model well phase\n",
      "knowledge extrapolation locations sense selected anns obtained mean\n",
      "absolute percentage error mape value model development overall mape\n",
      "seven locations anns capable tool modelling predicting monthly global\n",
      "solar irradiation areas data available extrapolating knowledge nearby\n",
      "areas\n",
      "\n",
      "\n"
     ]
    }
   ],
   "source": [
    "for file, text in filtered_sequence:\n",
    "    print(textwrap.fill(' '.join(text)))\n",
    "    print()\n",
    "    print()"
   ]
  },
  {
   "cell_type": "code",
   "execution_count": null,
   "id": "2f843236",
   "metadata": {},
   "outputs": [
    {
     "name": "stdout",
     "output_type": "stream",
     "text": [
      "../files/input\\file1.txt  it is essential to develop non precious metal based alternatives used \n",
      "../files/input\\file2.txt  electric vehicles are gaining global popularity lately and along with \n",
      "../files/input\\file3.txt  global solar irradiation is an important variable that can be used to \n"
     ]
    }
   ],
   "source": [
    "# Remoción de datos ruidosos (Opcion B)\n",
    "def filter_tokens_b(sequence):\n",
    "    \"\"\"Esta solucion puede perder tokens que contienen caracteres no alfabeticos\"\"\"\n",
    "    filtered_sequence = []\n",
    "    for file, tokens in sequence:\n",
    "        filtered_tokens = [re.sub(r\"[^a-zA-Z\\s]\", \" \", token) for token in tokens]\n",
    "        filtered_tokens = [re.sub(r\"\\s+\", \" \", token) for token in filtered_tokens]\n",
    "        filtered_tokens = [token.strip() for token in filtered_tokens]\n",
    "        filtered_tokens = [token for token in filtered_tokens if token != \"\"]\n",
    "        filtered_sequence.append((file, filtered_tokens))\n",
    "    return filtered_sequence\n",
    "\n",
    "\n",
    "sequence = load_data(input_directory=\"../files/input\")\n",
    "cleaned_sequence = clean_text(sequence)\n",
    "tokenized_sequence = tokenize(cleaned_sequence)\n",
    "filtered_sequence = filter_tokens_b(tokenized_sequence)\n",
    "for file, text in filtered_sequence:\n",
    "    print(f\"{file}  {' '.join(text)[:70]}\")\n",
    "    "
   ]
  },
  {
   "cell_type": "code",
   "execution_count": null,
   "id": "6742032d",
   "metadata": {},
   "outputs": [
    {
     "name": "stdout",
     "output_type": "stream",
     "text": [
      "../files/input\\file1.txt  it is essential to develop non precious metal based alternatives used \n",
      "../files/input\\file2.txt  electric vehicles are gaining global popularity lately and along with \n",
      "../files/input\\file3.txt  global solar irradiation is an important variable that can be used to \n"
     ]
    }
   ],
   "source": [
    "sequence = load_data(input_directory=\"../files/input\")\n",
    "cleaned_sequence = clean_text(sequence)\n",
    "tokenized_sequence = tokenize(cleaned_sequence)\n",
    "filtered_sequence = filter_tokens_b(tokenized_sequence)\n",
    "for file, text in filtered_sequence:\n",
    "    print(f\"{file}  {' '.join(text)[:70]}\")"
   ]
  },
  {
   "cell_type": "code",
   "execution_count": null,
   "id": "dd4b3f0b",
   "metadata": {},
   "outputs": [
    {
     "name": "stdout",
     "output_type": "stream",
     "text": [
      "../files/input\\file1.txt  essential develop non precious metal based alternatives used hydrogen \n",
      "../files/input\\file2.txt  electric vehicles gaining global popularity lately along efficient bat\n",
      "../files/input\\file3.txt  global solar irradiation important variable used determine suitability\n"
     ]
    },
    {
     "name": "stderr",
     "output_type": "stream",
     "text": [
      "[nltk_data] Downloading package stopwords to\n",
      "[nltk_data]     C:\\Users\\Usuario\\AppData\\Roaming\\nltk_data...\n",
      "[nltk_data]   Unzipping corpora\\stopwords.zip.\n"
     ]
    }
   ],
   "source": [
    "nltk.download(\"stopwords\")\n",
    "\n",
    "\n",
    "def remove_stopwords(sequence):\n",
    "    stop_words = set(nltk.corpus.stopwords.words(\"english\"))\n",
    "    filtered_sequence = []\n",
    "    for file, tokens in sequence:\n",
    "        filtered_tokens = [token for token in tokens if token not in stop_words]\n",
    "        filtered_sequence.append((file, filtered_tokens))\n",
    "    return filtered_sequence\n",
    "\n",
    "\n",
    "sequence = load_data(input_directory=\"../files/input\")\n",
    "cleaned_sequence = clean_text(sequence)\n",
    "tokenized_sequence = tokenize(cleaned_sequence)\n",
    "filtered_sequence = filter_tokens_b(tokenized_sequence)\n",
    "filtered_sequence = remove_stopwords(filtered_sequence)\n",
    "for file, text in filtered_sequence:\n",
    "    print(f\"{file}  {' '.join(text)[:70]}\") "
   ]
  },
  {
   "cell_type": "code",
   "execution_count": null,
   "id": "de859b37",
   "metadata": {},
   "outputs": [],
   "source": [
    "import os\n",
    "import textwrap\n",
    "\n",
    "def save_data(output_directory, sequence):\n",
    "\n",
    "    if not os.path.exists(output_directory):\n",
    "        os.makedirs(output_directory)\n",
    "\n",
    "    for file, tokens in sequence:\n",
    "        file = file.replace(\"\\\\\", \"/\")\n",
    "        with open(\n",
    "            f\"{output_directory}/{file.split('/')[-1]}\",\n",
    "            \"wt\",\n",
    "            encoding=\"utf-8\",\n",
    "        ) as f:\n",
    "            f.write(textwrap.fill(\" \".join(tokens), width=70))\n",
    "\n",
    "sequence = load_data(input_directory=\"../files/input\")\n",
    "cleaned_sequence = clean_text(sequence)\n",
    "tokenized_sequence = tokenize(cleaned_sequence)\n",
    "filtered_sequence = filter_tokens_b(tokenized_sequence)\n",
    "filtered_sequence = remove_stopwords(filtered_sequence)\n",
    "save_data(output_directory=\"../files/output\", sequence=filtered_sequence)"
   ]
  }
 ],
 "metadata": {
  "kernelspec": {
   "display_name": ".venv (3.11.4)",
   "language": "python",
   "name": "python3"
  },
  "language_info": {
   "codemirror_mode": {
    "name": "ipython",
    "version": 3
   },
   "file_extension": ".py",
   "mimetype": "text/x-python",
   "name": "python",
   "nbconvert_exporter": "python",
   "pygments_lexer": "ipython3",
   "version": "3.11.4"
  }
 },
 "nbformat": 4,
 "nbformat_minor": 5
}
